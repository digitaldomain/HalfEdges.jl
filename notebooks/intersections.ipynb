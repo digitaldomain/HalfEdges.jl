{
 "cells": [
  {
   "cell_type": "code",
   "execution_count": 1,
   "metadata": {},
   "outputs": [
    {
     "name": "stderr",
     "output_type": "stream",
     "text": [
      "┌ Info: Precompiling HalfEdges [b1055ec2-7fd2-11e8-0664-e1e21354bdb9]\n",
      "└ @ Base loading.jl:1273\n",
      "┌ Info: Precompiling Makie [ee78f7c6-11fb-53f2-987a-cfe4a2b5a57a]\n",
      "└ @ Base loading.jl:1273\n"
     ]
    }
   ],
   "source": [
    "using LinearAlgebra, StaticArrays, HalfEdges, Makie\n",
    "he = HalfEdges"
   ]
  },
  {
   "cell_type": "code",
   "execution_count": 2,
   "metadata": {},
   "outputs": [],
   "source": [
    "topobun, Pbun = loadmesh(\"../test/bunnylow.obj\")\n",
    "toposphere, Psphere = loadmesh(\"../test/sphere.obj\")\n",
    "Fbun = map(x->Int(x),Iterators.flatten(polygons(topobun)))\n",
    "Fsphere = map(x->Int(x),Iterators.flatten(polygons(toposphere)))\n",
    "\n",
    "P = vcat(Pbun, map(p->p*0.125,Psphere))\n",
    "F = vcat(Fbun, map(x->x+length(Pbun), Fsphere))\n",
    "topo = Topology(F);"
   ]
  },
  {
   "cell_type": "code",
   "execution_count": null,
   "metadata": {},
   "outputs": [],
   "source": [
    "w = winding_numbers(topo, P)"
   ]
  },
  {
   "cell_type": "code",
   "execution_count": 4,
   "metadata": {},
   "outputs": [
    {
     "data": {},
     "execution_count": 4,
     "metadata": {},
     "output_type": "execute_result"
    }
   ],
   "source": [
    "Makie.mesh(P, F, color=w)"
   ]
  },
  {
   "cell_type": "code",
   "execution_count": 5,
   "metadata": {},
   "outputs": [],
   "source": [
    "hits = collide_self(topo, P, he.Collision.triangle_edges);\n",
    "Fhit = (unique∘sort)(vcat( map(x->x[1],hits), map(x->x[2],hits)))\n",
    "triP = Vector{Vector{VertexHandle}}(undef, reduce(max, Fhit))\n",
    "triP[Fhit] = map(iF->vertices(topo, FaceHandle(iF)), Fhit)\n",
    "\n"
   ]
  },
  {
   "cell_type": "code",
   "execution_count": 8,
   "metadata": {},
   "outputs": [
    {
     "data": {
      "text/plain": [
       "14904-element Array{Int64,1}:\n",
       " 1069\n",
       " 1647\n",
       " 1578\n",
       " 1058\n",
       "  909\n",
       "  939\n",
       "  421\n",
       " 1176\n",
       "  238\n",
       " 1055\n",
       " 1101\n",
       " 1042\n",
       "  238\n",
       "    ⋮\n",
       " 1493\n",
       " 1487\n",
       " 2503\n",
       " 1487\n",
       " 1318\n",
       " 2503\n",
       " 1318\n",
       " 1320\n",
       " 2503\n",
       " 1320\n",
       " 2443\n",
       " 2503"
      ]
     },
     "execution_count": 8,
     "metadata": {},
     "output_type": "execute_result"
    }
   ],
   "source": [
    "groups = floodfill(topo, P)\n",
    "wc = winding_number_cache(topo, P)\n",
    "\n",
    "isinside = map(group->winding_number(topo, P, P[group[1]], wc) > 0.9, groups)\n"
   ]
  },
  {
   "cell_type": "code",
   "execution_count": null,
   "metadata": {},
   "outputs": [],
   "source": []
  }
 ],
 "metadata": {
  "kernelspec": {
   "display_name": "Julia 1.3.1",
   "language": "julia",
   "name": "julia-1.3"
  },
  "language_info": {
   "file_extension": ".jl",
   "mimetype": "application/julia",
   "name": "julia",
   "version": "1.3.1"
  }
 },
 "nbformat": 4,
 "nbformat_minor": 4
}
